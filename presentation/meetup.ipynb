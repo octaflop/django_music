{
 "cells": [
  {
   "cell_type": "markdown",
   "metadata": {
    "slideshow": {
     "slide_type": "slide"
    }
   },
   "source": [
    "# Intro to Web Development with Django\n",
    "# Faris Chebib"
   ]
  },
  {
   "cell_type": "markdown",
   "metadata": {
    "slideshow": {
     "slide_type": "slide"
    }
   },
   "source": [
    "### A basic web page `web_page`"
   ]
  },
  {
   "cell_type": "markdown",
   "metadata": {},
   "source": [
    "Once django is set up, we can use a simple view to render a template."
   ]
  },
  {
   "cell_type": "code",
   "execution_count": 5,
   "metadata": {
    "collapsed": true
   },
   "outputs": [],
   "source": [
    "from django.shortcuts import render\n",
    "\n",
    "def web_page(request):\n",
    "    template_name = 'web_page/base.html'\n",
    "    render(request, template_name, {})"
   ]
  },
  {
   "cell_type": "markdown",
   "metadata": {
    "collapsed": true,
    "slideshow": {
     "slide_type": "slide"
    }
   },
   "source": [
    "### A basic web app `web_app`"
   ]
  },
  {
   "cell_type": "markdown",
   "metadata": {},
   "source": [
    "That was boring.\n",
    "\n",
    "Let's do something more interesting..."
   ]
  },
  {
   "cell_type": "code",
   "execution_count": 1,
   "metadata": {
    "scrolled": true
   },
   "outputs": [
    {
     "ename": "SyntaxError",
     "evalue": "invalid syntax (<ipython-input-1-aff5fb9886a6>, line 1)",
     "output_type": "error",
     "traceback": [
      "\u001b[0;36m  File \u001b[0;32m\"<ipython-input-1-aff5fb9886a6>\"\u001b[0;36m, line \u001b[0;32m1\u001b[0m\n\u001b[0;31m    <!DOCTYPE html>\u001b[0m\n\u001b[0m    ^\u001b[0m\n\u001b[0;31mSyntaxError\u001b[0m\u001b[0;31m:\u001b[0m invalid syntax\n"
     ]
    }
   ],
   "source": [
    "<!DOCTYPE html>\n",
    "<html>\n",
    "  <head>\n",
    "    <meta charset=\"utf-8\">\n",
    "    <title>Album List</title>\n",
    "  </head>\n",
    "  <body>\n",
    "    <h2>A basic album list</h2>\n",
    "    {% for album in albums %}\n",
    "    <h3>{{ album.title }} by {{album.artist }} ({{ album.year }})</h3>\n",
    "    <h4>Songs:</h4>\n",
    "      <ul>\n",
    "      {% for song in album.songs %}\n",
    "        <li>\n",
    "          {{ song.track }} — {{ song.title }} {% if song.duration %}({{ song.duration }}){% endif %}\n",
    "        </li>\n",
    "      {% endfor %}\n",
    "      </ul>\n",
    "    {% endfor %}\n",
    "  </body>\n",
    "</html>\n"
   ]
  },
  {
   "cell_type": "code",
   "execution_count": null,
   "metadata": {
    "collapsed": true,
    "slideshow": {
     "slide_type": "subslide"
    }
   },
   "outputs": [],
   "source": [
    "from django.shortcuts import render\n",
    "\n",
    "from web_app.forms import SongForm\n",
    "\n",
    "\n",
    "def basic_web_app(request):\n",
    "    ctx = {}\n",
    "    ctx['albums'] = [\n",
    "        {\n",
    "            'artist': 'Les Gordon',\n",
    "            'title': 'Abyss',\n",
    "            'year': '2016',\n",
    "            'songs': [\n",
    "                {\n",
    "                    'track': 1,\n",
    "                    'title': 'Abyss',\n",
    "                    'duration': '3:13'\n",
    "                },\n",
    "                {\n",
    "                    'track': 2,\n",
    "                    'title': 'Shiho & Kyoko',\n",
    "                    'duration': '2:58'\n",
    "                },\n",
    "            ]\n",
    "        },\n",
    "        {\n",
    "            'artist': 'Same Gellaitry',\n",
    "            'title': 'Escapism II',\n",
    "            'year': '2016',\n",
    "            'songs': [\n",
    "                {\n",
    "                    'track': 1,\n",
    "                    'title': 'The Gateway',\n",
    "                    'duration': '3:12'\n",
    "                },\n",
    "                {\n",
    "                    'track': 2,\n",
    "                    'title': 'Desert Mirage',\n",
    "                    'duration': '5:00'\n",
    "                },\n",
    "                {\n",
    "                    'track': 3,\n",
    "                    'title': 'Jacket Weather',\n",
    "                    'duration': None\n",
    "                },\n",
    "                {\n",
    "                    'track': 4,\n",
    "                    'title': 'Static Sleep',\n",
    "                    'duration': ''\n",
    "                }\n",
    "            ]\n",
    "        }\n",
    "    ]\n",
    "    template_name = 'web_app/basic.html'\n",
    "    return render(request, template_name, ctx)\n",
    "\n",
    "\n",
    "def dynamic_web_app(request):\n",
    "    ctx = {}\n",
    "    template_name = 'web_app/dynamic.html'\n",
    "    if request.method == 'POST':\n",
    "        form = SongForm(request.POST)\n",
    "        if form.is_valid():\n",
    "            ctx['song'] = form.cleaned_data\n",
    "    else:\n",
    "        form = SongForm()\n",
    "    ctx['form'] = form\n",
    "    return render(request, template_name, ctx)"
   ]
  },
  {
   "cell_type": "markdown",
   "metadata": {
    "slideshow": {
     "slide_type": "slide"
    }
   },
   "source": [
    "### A basic web db `web_db`"
   ]
  },
  {
   "cell_type": "markdown",
   "metadata": {},
   "source": [
    "Cool, but how do we store this data?"
   ]
  },
  {
   "cell_type": "code",
   "execution_count": null,
   "metadata": {
    "collapsed": true,
    "slideshow": {
     "slide_type": "subslide"
    }
   },
   "outputs": [],
   "source": [
    "from django.db import models\n",
    "\n",
    "\n",
    "class Album(models.Model):\n",
    "    title = models.CharField(max_length=255)\n",
    "    year = models.PositiveIntegerField()\n",
    "    artist = models.CharField(max_length=255)\n",
    "\n",
    "    def __str__(self):\n",
    "        return \"{} by {} ({})\".format(self.title, self.artist, self.year)\n",
    "\n",
    "\n",
    "class Song(models.Model):\n",
    "    title = models.CharField(max_length=255)\n",
    "    track = models.PositiveIntegerField(blank=True)\n",
    "    duration = models.CharField(max_length=15, blank=True)\n",
    "\n",
    "    album = models.ForeignKey(Album)\n",
    "\n",
    "    def __str__(self):\n",
    "        return \"{} ({})\".format(self.title, self.track)\n"
   ]
  },
  {
   "cell_type": "code",
   "execution_count": null,
   "metadata": {
    "collapsed": true,
    "slideshow": {
     "slide_type": "subslide"
    }
   },
   "outputs": [],
   "source": [
    "from django.views.generic.detail import DetailView\n",
    "from django.views.generic.list import ListView\n",
    "\n",
    "from web_db.models import Album, Song\n",
    "\n",
    "\n",
    "class AlbumDetailView(DetailView):\n",
    "    model = Album\n",
    "    context_object_name = 'album'\n",
    "\n",
    "\n",
    "class AlbumListView(ListView):\n",
    "    model = Album\n",
    "    context_object_name = 'albums'\n",
    "\n",
    "\n",
    "class SongDetailView(DetailView):\n",
    "    model = Song\n",
    "    context_object_name = 'song'\n",
    "\n",
    "\n",
    "class SongListView(ListView):\n",
    "    model = Song\n",
    "    context_object_name = 'songs'\n"
   ]
  },
  {
   "cell_type": "code",
   "execution_count": null,
   "metadata": {
    "collapsed": true,
    "slideshow": {
     "slide_type": "subslide"
    }
   },
   "outputs": [],
   "source": [
    "from django.conf.urls import url\n",
    "\n",
    "from web_db import views\n",
    "\n",
    "urlpatterns = [\n",
    "    url(r'^albums/$', views.AlbumListView.as_view(), name='album-list'),\n",
    "    url(r'^albums/(?P<pk>\\d+)/$', views.AlbumDetailView.as_view(), name='album-detail'),\n",
    "    url(r'^songs/$', views.SongListView.as_view(), name='song-list'),\n",
    "    url(r'^songs/(?P<pk>\\d+)/$', views.SongDetailView.as_view(), name='song-detail'),\n",
    "]\n"
   ]
  },
  {
   "cell_type": "code",
   "execution_count": null,
   "metadata": {
    "collapsed": true,
    "slideshow": {
     "slide_type": "subslide"
    }
   },
   "outputs": [],
   "source": [
    "from django.contrib import admin\n",
    "\n",
    "from web_db import models\n",
    "\n",
    "\n",
    "class SongAdmin(admin.ModelAdmin):\n",
    "    search_fields = ('title',)\n",
    "\n",
    "\n",
    "class SongInline(admin.TabularInline):\n",
    "    model = models.Song\n",
    "\n",
    "\n",
    "class AlbumAdmin(admin.ModelAdmin):\n",
    "    search_fields = ('title', 'artist', 'year',)\n",
    "    inlines = (SongInline,)\n",
    "\n",
    "admin.site.register(models.Album, AlbumAdmin)\n",
    "admin.site.register(models.Song, SongAdmin)\n"
   ]
  },
  {
   "cell_type": "markdown",
   "metadata": {
    "slideshow": {
     "slide_type": "slide"
    }
   },
   "source": [
    "### A basic web endpoint `web_endpoint`"
   ]
  },
  {
   "cell_type": "markdown",
   "metadata": {},
   "source": [
    "Now the front-end guy is yelling at us"
   ]
  },
  {
   "cell_type": "code",
   "execution_count": null,
   "metadata": {
    "collapsed": true,
    "slideshow": {
     "slide_type": "subslide"
    }
   },
   "outputs": [],
   "source": [
    "from rest_framework import serializers\n",
    "\n",
    "from web_db.models import Album, Song\n",
    "\n",
    "\n",
    "class BasicSongSerializer(serializers.ModelSerializer):\n",
    "\n",
    "    class Meta:\n",
    "        model = Song\n",
    "        fields = ('title', 'track', 'duration',)\n",
    "\n",
    "\n",
    "class AlbumSerializer(serializers.ModelSerializer):\n",
    "    songs = BasicSongSerializer(many=True, source='song_set')\n",
    "\n",
    "    class Meta:\n",
    "        model = Album\n",
    "        fields = ('title', 'artist', 'year', 'songs')\n",
    "\n",
    "    def create(self, data):\n",
    "        songs = data.pop('song_set')\n",
    "        album = Album.objects.create(**data)\n",
    "        for song in songs:\n",
    "            Song.objects.create(album=album, **song)\n",
    "        return album\n",
    "\n",
    "\n",
    "class SongSerializer(serializers.ModelSerializer):\n",
    "    album = AlbumSerializer()\n",
    "\n",
    "    class Meta:\n",
    "        model = Song\n",
    "        fields = ('title', 'track', 'duration', 'album',)\n"
   ]
  },
  {
   "cell_type": "code",
   "execution_count": null,
   "metadata": {
    "collapsed": true,
    "slideshow": {
     "slide_type": "subslide"
    }
   },
   "outputs": [],
   "source": [
    "from rest_framework import viewsets\n",
    "\n",
    "from web_db.models import Album, Song\n",
    "\n",
    "from web_endpoints.serializers import AlbumSerializer, SongSerializer\n",
    "\n",
    "\n",
    "class AlbumViewSet(viewsets.ModelViewSet):\n",
    "    queryset = Album.objects.all()\n",
    "    serializer_class = AlbumSerializer\n",
    "\n",
    "\n",
    "class SongViewSet(viewsets.ModelViewSet):\n",
    "    queryset = Song.objects.all()\n",
    "    serializer_class = SongSerializer\n"
   ]
  },
  {
   "cell_type": "code",
   "execution_count": null,
   "metadata": {
    "collapsed": true,
    "slideshow": {
     "slide_type": "subslide"
    }
   },
   "outputs": [],
   "source": [
    "from django.conf.urls import url, include\n",
    "from web_endpoints.views import AlbumViewSet, SongViewSet\n",
    "from rest_framework.routers import DefaultRouter\n",
    "\n",
    "router = DefaultRouter()\n",
    "router.register(r'albums', AlbumViewSet)\n",
    "router.register(r'songs', SongViewSet)\n",
    "\n",
    "urlpatterns = [\n",
    "    url(r'', include(router.urls)),\n",
    "]\n"
   ]
  },
  {
   "cell_type": "markdown",
   "metadata": {
    "slideshow": {
     "slide_type": "slide"
    }
   },
   "source": [
    "### BONUS!? `web_bonus`"
   ]
  },
  {
   "cell_type": "markdown",
   "metadata": {},
   "source": [
    "Python 3.6 + apistar = full on awesomness!"
   ]
  },
  {
   "cell_type": "code",
   "execution_count": null,
   "metadata": {
    "collapsed": true,
    "slideshow": {
     "slide_type": "subslide"
    }
   },
   "outputs": [],
   "source": [
    "from apistar import Include, Route\n",
    "from apistar.frameworks.asyncio import ASyncIOApp as App\n",
    "from apistar.handlers import docs_urls, static_urls\n",
    "from apistar.backends import django_orm\n",
    "from apistar.backends.django_orm import Session\n",
    "# from django.conf import settings  ## TODO: use the project settings\n",
    "\n",
    "import os\n",
    "\n",
    "REL = lambda * x: os.path.abspath(os.path.join(os.path.dirname(__file__), '..', '..', '..', *x))  # noqa\n",
    "\n",
    "settings = {\n",
    "    'DATABASES': {\n",
    "        'default': {\n",
    "            'ENGINE': 'django.db.backends.sqlite3',\n",
    "            'NAME': REL('db.sqlite3')\n",
    "        }\n",
    "    },\n",
    "    'INSTALLED_APPS': ['web_bonus', 'web_db']\n",
    "}\n",
    "\n",
    "\n",
    "async def welcome(name=None):\n",
    "    if name is None:\n",
    "        return {'message': 'Welcome to API Star!'}\n",
    "    return {'message': 'Welcome to API Star, %s!' % name}\n",
    "\n",
    "\n",
    "async def create_album(\n",
    "        session: Session, title: str, year: int, artist: str):\n",
    "    album = session.Album(\n",
    "        title=title,\n",
    "        year=year,\n",
    "        artist=artist)\n",
    "    album.save()\n",
    "    return {'id': album.id, 'title': album.title}\n",
    "\n",
    "\n",
    "async def create_song(\n",
    "        session: Session, title: str, album_id: int, track: int):\n",
    "    album = session.Album.objects.get(id=album_id)\n",
    "    song = session.Song(\n",
    "        title=title,\n",
    "        album=album,\n",
    "        track=track)\n",
    "    song.save()\n",
    "    return {'id': song.id, 'title': song.title, 'track': track}\n",
    "\n",
    "\n",
    "async def list_albums(session: Session):\n",
    "    queryset = session.Album.objects.all()\n",
    "    return [\n",
    "        {'id': album.id, 'title': album.title, 'year': album.year}\n",
    "        for album in queryset\n",
    "    ]\n",
    "\n",
    "\n",
    "async def list_songs(session: Session):\n",
    "    queryset = session.Song.objects.all()\n",
    "    return [\n",
    "        {'id': song.id, 'title': song.title, 'track': song.track}\n",
    "        for song in queryset\n",
    "    ]\n",
    "\n",
    "\n",
    "routes = [\n",
    "    Route('/', 'GET', welcome),\n",
    "    Route('/albums/', 'GET', list_albums),\n",
    "    Route('/albums/', 'POST', create_album),\n",
    "    Route('/songs/', 'GET', list_songs),\n",
    "    Route('/songs/', 'POST', create_song),\n",
    "    Include('/docs', docs_urls),\n",
    "    Include('/static', static_urls)\n",
    "]\n",
    "\n",
    "app = App(\n",
    "    routes=routes,\n",
    "    settings=settings,\n",
    "    commands=django_orm.commands,\n",
    "    components=django_orm.components\n",
    "    )\n",
    "\n",
    "\n",
    "if __name__ == '__main__':\n",
    "    app.main()\n"
   ]
  }
 ],
 "metadata": {
  "celltoolbar": "Slideshow",
  "kernelspec": {
   "display_name": "Python 3",
   "language": "python",
   "name": "python3"
  },
  "language_info": {
   "codemirror_mode": {
    "name": "ipython",
    "version": 3
   },
   "file_extension": ".py",
   "mimetype": "text/x-python",
   "name": "python",
   "nbconvert_exporter": "python",
   "pygments_lexer": "ipython3",
   "version": "3.6.5"
  }
 },
 "nbformat": 4,
 "nbformat_minor": 2
}
